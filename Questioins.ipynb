{
 "cells": [
  {
   "cell_type": "markdown",
   "metadata": {},
   "source": [
    "<img src=\"shrdc_logo.png\" style=\"height: 100px;\" align=left>  "
   ]
  },
  {
   "cell_type": "markdown",
   "metadata": {},
   "source": [
    "## Load Libraries"
   ]
  },
  {
   "cell_type": "code",
   "execution_count": 1,
   "metadata": {},
   "outputs": [],
   "source": [
    "import pandas as pd\n",
    "import seaborn as sns\n",
    "import matplotlib.pyplot as plt\n",
    "import numpy as np \n",
    "\n",
    "pd.set_option('display.max_columns', 100)\n",
    "\n",
    "sns.set()"
   ]
  },
  {
   "cell_type": "markdown",
   "metadata": {},
   "source": [
    "## Import data\n",
    "\n",
    "#### Read the file \"dataset.csv\" and change all the column names to upper case."
   ]
  },
  {
   "cell_type": "code",
   "execution_count": 2,
   "metadata": {},
   "outputs": [
    {
     "data": {
      "text/html": [
       "<div>\n",
       "<style scoped>\n",
       "    .dataframe tbody tr th:only-of-type {\n",
       "        vertical-align: middle;\n",
       "    }\n",
       "\n",
       "    .dataframe tbody tr th {\n",
       "        vertical-align: top;\n",
       "    }\n",
       "\n",
       "    .dataframe thead th {\n",
       "        text-align: right;\n",
       "    }\n",
       "</style>\n",
       "<table border=\"1\" class=\"dataframe\">\n",
       "  <thead>\n",
       "    <tr style=\"text-align: right;\">\n",
       "      <th></th>\n",
       "      <th>ORIGIN</th>\n",
       "      <th>SECTOR</th>\n",
       "      <th>TREATMENT_LOCATION</th>\n",
       "      <th>SEX</th>\n",
       "      <th>BIRTHPLACE_LOCATION</th>\n",
       "      <th>PATIENT_LOCATION</th>\n",
       "      <th>MUNICIPALITY</th>\n",
       "      <th>HOSPITALIZED</th>\n",
       "      <th>ADMISSION DATE</th>\n",
       "      <th>DATE_OF_FIRST_SYMPTOM</th>\n",
       "      <th>DATE_OF_DEATH</th>\n",
       "      <th>INTUBATED</th>\n",
       "      <th>PNEUMONIA</th>\n",
       "      <th>AGE</th>\n",
       "      <th>NATIONALITY</th>\n",
       "      <th>PREGNANCY</th>\n",
       "      <th>SPEAKS_NATIVE_LANGUAGE</th>\n",
       "      <th>DIABETES</th>\n",
       "      <th>COPD</th>\n",
       "      <th>ASTHMA</th>\n",
       "      <th>INMUSUPR</th>\n",
       "      <th>HYPERTENSION</th>\n",
       "      <th>OTHER_DISEASE</th>\n",
       "      <th>CARDIOVASCULAR</th>\n",
       "      <th>OBESITY</th>\n",
       "      <th>CHRONIC_KIDNEY</th>\n",
       "      <th>TOBACCO</th>\n",
       "      <th>ANOTHER CASE</th>\n",
       "      <th>OUTCOME</th>\n",
       "      <th>MIGRANT</th>\n",
       "      <th>COUNTRY OF ORIGIN</th>\n",
       "      <th>ICU</th>\n",
       "    </tr>\n",
       "  </thead>\n",
       "  <tbody>\n",
       "    <tr>\n",
       "      <th>0</th>\n",
       "      <td>OUTSIDE USMER</td>\n",
       "      <td>STATE</td>\n",
       "      <td>2</td>\n",
       "      <td>1</td>\n",
       "      <td>2</td>\n",
       "      <td>2</td>\n",
       "      <td>4</td>\n",
       "      <td>1</td>\n",
       "      <td>2020-04-22</td>\n",
       "      <td>2020-04-18</td>\n",
       "      <td>NaN</td>\n",
       "      <td>97</td>\n",
       "      <td>2</td>\n",
       "      <td>60</td>\n",
       "      <td>1</td>\n",
       "      <td>2</td>\n",
       "      <td>2</td>\n",
       "      <td>2</td>\n",
       "      <td>2</td>\n",
       "      <td>2</td>\n",
       "      <td>2</td>\n",
       "      <td>1</td>\n",
       "      <td>2</td>\n",
       "      <td>2</td>\n",
       "      <td>2</td>\n",
       "      <td>2</td>\n",
       "      <td>2</td>\n",
       "      <td>1</td>\n",
       "      <td>1</td>\n",
       "      <td>99</td>\n",
       "      <td>99</td>\n",
       "      <td>97</td>\n",
       "    </tr>\n",
       "    <tr>\n",
       "      <th>1</th>\n",
       "      <td>OUTSIDE USMER</td>\n",
       "      <td>STATE</td>\n",
       "      <td>15</td>\n",
       "      <td>2</td>\n",
       "      <td>15</td>\n",
       "      <td>15</td>\n",
       "      <td>33</td>\n",
       "      <td>2</td>\n",
       "      <td>2020-05-18</td>\n",
       "      <td>2020-05-15</td>\n",
       "      <td>NaN</td>\n",
       "      <td>2</td>\n",
       "      <td>1</td>\n",
       "      <td>35</td>\n",
       "      <td>1</td>\n",
       "      <td>97</td>\n",
       "      <td>2</td>\n",
       "      <td>2</td>\n",
       "      <td>2</td>\n",
       "      <td>2</td>\n",
       "      <td>2</td>\n",
       "      <td>1</td>\n",
       "      <td>2</td>\n",
       "      <td>2</td>\n",
       "      <td>2</td>\n",
       "      <td>1</td>\n",
       "      <td>2</td>\n",
       "      <td>2</td>\n",
       "      <td>1</td>\n",
       "      <td>99</td>\n",
       "      <td>99</td>\n",
       "      <td>2</td>\n",
       "    </tr>\n",
       "    <tr>\n",
       "      <th>2</th>\n",
       "      <td>OUTSIDE USMER</td>\n",
       "      <td>STATE</td>\n",
       "      <td>2</td>\n",
       "      <td>1</td>\n",
       "      <td>2</td>\n",
       "      <td>2</td>\n",
       "      <td>2</td>\n",
       "      <td>1</td>\n",
       "      <td>2020-05-22</td>\n",
       "      <td>2020-05-19</td>\n",
       "      <td>NaN</td>\n",
       "      <td>97</td>\n",
       "      <td>2</td>\n",
       "      <td>51</td>\n",
       "      <td>1</td>\n",
       "      <td>2</td>\n",
       "      <td>2</td>\n",
       "      <td>1</td>\n",
       "      <td>2</td>\n",
       "      <td>2</td>\n",
       "      <td>2</td>\n",
       "      <td>2</td>\n",
       "      <td>2</td>\n",
       "      <td>2</td>\n",
       "      <td>1</td>\n",
       "      <td>2</td>\n",
       "      <td>2</td>\n",
       "      <td>1</td>\n",
       "      <td>1</td>\n",
       "      <td>99</td>\n",
       "      <td>99</td>\n",
       "      <td>97</td>\n",
       "    </tr>\n",
       "    <tr>\n",
       "      <th>3</th>\n",
       "      <td>OUTSIDE USMER</td>\n",
       "      <td>STATE</td>\n",
       "      <td>15</td>\n",
       "      <td>2</td>\n",
       "      <td>9</td>\n",
       "      <td>15</td>\n",
       "      <td>87</td>\n",
       "      <td>1</td>\n",
       "      <td>2020-06-05</td>\n",
       "      <td>2020-06-04</td>\n",
       "      <td>NaN</td>\n",
       "      <td>97</td>\n",
       "      <td>2</td>\n",
       "      <td>48</td>\n",
       "      <td>1</td>\n",
       "      <td>97</td>\n",
       "      <td>2</td>\n",
       "      <td>2</td>\n",
       "      <td>2</td>\n",
       "      <td>2</td>\n",
       "      <td>2</td>\n",
       "      <td>2</td>\n",
       "      <td>2</td>\n",
       "      <td>2</td>\n",
       "      <td>2</td>\n",
       "      <td>2</td>\n",
       "      <td>1</td>\n",
       "      <td>1</td>\n",
       "      <td>1</td>\n",
       "      <td>99</td>\n",
       "      <td>99</td>\n",
       "      <td>97</td>\n",
       "    </tr>\n",
       "    <tr>\n",
       "      <th>4</th>\n",
       "      <td>OUTSIDE USMER</td>\n",
       "      <td>IMSS</td>\n",
       "      <td>25</td>\n",
       "      <td>2</td>\n",
       "      <td>25</td>\n",
       "      <td>25</td>\n",
       "      <td>6</td>\n",
       "      <td>1</td>\n",
       "      <td>2020-04-22</td>\n",
       "      <td>2020-04-18</td>\n",
       "      <td>2020-05-04</td>\n",
       "      <td>97</td>\n",
       "      <td>2</td>\n",
       "      <td>69</td>\n",
       "      <td>1</td>\n",
       "      <td>97</td>\n",
       "      <td>2</td>\n",
       "      <td>1</td>\n",
       "      <td>2</td>\n",
       "      <td>2</td>\n",
       "      <td>1</td>\n",
       "      <td>2</td>\n",
       "      <td>2</td>\n",
       "      <td>2</td>\n",
       "      <td>2</td>\n",
       "      <td>2</td>\n",
       "      <td>2</td>\n",
       "      <td>99</td>\n",
       "      <td>1</td>\n",
       "      <td>99</td>\n",
       "      <td>99</td>\n",
       "      <td>97</td>\n",
       "    </tr>\n",
       "  </tbody>\n",
       "</table>\n",
       "</div>"
      ],
      "text/plain": [
       "          ORIGIN SECTOR  TREATMENT_LOCATION  SEX  BIRTHPLACE_LOCATION  \\\n",
       "0  OUTSIDE USMER  STATE                   2    1                    2   \n",
       "1  OUTSIDE USMER  STATE                  15    2                   15   \n",
       "2  OUTSIDE USMER  STATE                   2    1                    2   \n",
       "3  OUTSIDE USMER  STATE                  15    2                    9   \n",
       "4  OUTSIDE USMER   IMSS                  25    2                   25   \n",
       "\n",
       "   PATIENT_LOCATION  MUNICIPALITY  HOSPITALIZED ADMISSION DATE  \\\n",
       "0                 2             4             1     2020-04-22   \n",
       "1                15            33             2     2020-05-18   \n",
       "2                 2             2             1     2020-05-22   \n",
       "3                15            87             1     2020-06-05   \n",
       "4                25             6             1     2020-04-22   \n",
       "\n",
       "  DATE_OF_FIRST_SYMPTOM DATE_OF_DEATH  INTUBATED  PNEUMONIA  AGE  NATIONALITY  \\\n",
       "0            2020-04-18           NaN         97          2   60            1   \n",
       "1            2020-05-15           NaN          2          1   35            1   \n",
       "2            2020-05-19           NaN         97          2   51            1   \n",
       "3            2020-06-04           NaN         97          2   48            1   \n",
       "4            2020-04-18    2020-05-04         97          2   69            1   \n",
       "\n",
       "   PREGNANCY  SPEAKS_NATIVE_LANGUAGE  DIABETES  COPD  ASTHMA  INMUSUPR  \\\n",
       "0          2                       2         2     2       2         2   \n",
       "1         97                       2         2     2       2         2   \n",
       "2          2                       2         1     2       2         2   \n",
       "3         97                       2         2     2       2         2   \n",
       "4         97                       2         1     2       2         1   \n",
       "\n",
       "   HYPERTENSION  OTHER_DISEASE  CARDIOVASCULAR  OBESITY  CHRONIC_KIDNEY  \\\n",
       "0             1              2               2        2               2   \n",
       "1             1              2               2        2               1   \n",
       "2             2              2               2        1               2   \n",
       "3             2              2               2        2               2   \n",
       "4             2              2               2        2               2   \n",
       "\n",
       "   TOBACCO  ANOTHER CASE  OUTCOME  MIGRANT COUNTRY OF ORIGIN  ICU  \n",
       "0        2             1        1       99                99   97  \n",
       "1        2             2        1       99                99    2  \n",
       "2        2             1        1       99                99   97  \n",
       "3        1             1        1       99                99   97  \n",
       "4        2            99        1       99                99   97  "
      ]
     },
     "execution_count": 2,
     "metadata": {},
     "output_type": "execute_result"
    }
   ],
   "source": [
    "# your codes here...\n",
    "\n",
    "df = pd.read_csv(\"dataset.csv\")\n",
    "df.columns = map(str.upper, df.columns) \n",
    "\n",
    "df.head()"
   ]
  },
  {
   "cell_type": "markdown",
   "metadata": {},
   "source": [
    "### QUESTION 1: Transform raw data according to Data Dictionary [1m]\n",
    "\n",
    "Refer to data_dictionary.csv and map the attributes values accordingly. \n",
    "\n",
    "For example, for \"SEX\" variable, the value \"FEMALE\" will take the value 1, while \"MALE\" will be assigned 2; \"UNKNOWN\" will be assigned 99. \n",
    "\n",
    "Perform the same operation for all the variables listed in the data dictionary such as \"HOSPITALIZED\", \"INTUBATED\" , \"PNEUMONIA\" ,\"PREGNANCY\" , 'SPEAKS_NATIVE_LANGUAGE', \"DIABETES\" , \"COPD\" , \"ASTHMA\" , \"INMUSUPR\" , \"HYPERTENSION\" , \"OTHER_DISEASE\" , \"CARDIOVASCULAR\" , \"OBESITY\" , 'CHRONIC_KIDNEY', \"TOBACCO\" , \"ANOTHER CASE\" ,\"MIGRANT\", \"ICU\", \"OUTCOME\", \"NATIONALITY\"."
   ]
  },
  {
   "cell_type": "code",
   "execution_count": null,
   "metadata": {},
   "outputs": [],
   "source": [
    "# Sample code for mapping\n",
    "\n",
    "df[\"SEX\"] = pd.to_numeric(df[\"SEX\"])\n",
    "df[\"SEX\"] = df[\"SEX\"].map({1:\"FEMALE\", 2:\"MALE\", 99:\"UNKNOWN\"})\n",
    "\n",
    "# your codes here...\n",
    " "
   ]
  },
  {
   "cell_type": "markdown",
   "metadata": {},
   "source": [
    "### QUESTION 2: Which age groups are most susceptible to COVID-19? [1m]\n",
    "\n",
    "Cut the AGE into bins of [0,10,20,30,40,50,60,70,80,90,100]."
   ]
  },
  {
   "cell_type": "code",
   "execution_count": 3,
   "metadata": {},
   "outputs": [
    {
     "name": "stdout",
     "output_type": "stream",
     "text": [
      "Age Group Distribution of COVID-19 Cases:\n",
      "Age Group\n",
      "0-10       1614\n",
      "11-20      3131\n",
      "21-30     20485\n",
      "31-40     35386\n",
      "41-50     36445\n",
      "51-60     30453\n",
      "61-70     18604\n",
      "71-80      9519\n",
      "81-90      3568\n",
      "91-100      559\n",
      "Name: count, dtype: int64\n",
      "\n",
      "Most susceptible age group: 41-50\n"
     ]
    }
   ],
   "source": [
    "\n",
    "\n",
    "# Assuming `df` is your DataFrame and has an 'AGE' column\n",
    "analysis = df.copy()  \n",
    "\n",
    "# Define age bins and labels\n",
    "bins = [0, 10, 20, 30, 40, 50, 60, 70, 80, 90, 100]\n",
    "labels = [\"0-10\", \"11-20\", \"21-30\", \"31-40\", \"41-50\", \"51-60\", \"61-70\", \"71-80\", \"81-90\", \"91-100\"]\n",
    "\n",
    "# Categorize AGE into bins\n",
    "analysis[\"Age Group\"] = pd.cut(analysis[\"AGE\"], bins=bins, labels=labels, right=False)\n",
    "\n",
    "# Count cases per age group\n",
    "age_distribution = analysis[\"Age Group\"].value_counts().sort_index()\n",
    "\n",
    "# Display results\n",
    "print(\"Age Group Distribution of COVID-19 Cases:\")\n",
    "print(age_distribution)\n",
    "\n",
    "# Find the most susceptible age group\n",
    "most_susceptible_group = age_distribution.idxmax()\n",
    "print(f\"\\nMost susceptible age group: {most_susceptible_group}\")\n",
    "\n",
    "\n"
   ]
  },
  {
   "cell_type": "markdown",
   "metadata": {},
   "source": [
    "### QUESTION 3: Based on the above information, plot a bar chart. [1m]\n",
    "\n",
    "Use the same bin as in Question 2."
   ]
  },
  {
   "cell_type": "code",
   "execution_count": null,
   "metadata": {},
   "outputs": [],
   "source": [
    "# your codes here...\n",
    "\n",
    " "
   ]
  },
  {
   "cell_type": "markdown",
   "metadata": {},
   "source": [
    "### QUESTION 4: Based on the above information, plot a histogram. [1m]\n",
    "\n",
    "Use the same bin as in Question 2."
   ]
  },
  {
   "cell_type": "code",
   "execution_count": null,
   "metadata": {},
   "outputs": [],
   "source": [
    "# your codes here...\n",
    " "
   ]
  },
  {
   "cell_type": "markdown",
   "metadata": {},
   "source": [
    "### QUESTION 5: Distribution of cases by gender & age group [1m]\n",
    "\n",
    "Use the same bin as in Question 2."
   ]
  },
  {
   "cell_type": "code",
   "execution_count": null,
   "metadata": {},
   "outputs": [],
   "source": [
    "# your codes here...\n",
    "\n",
    " "
   ]
  },
  {
   "cell_type": "markdown",
   "metadata": {},
   "source": [
    "### QUESTION 6: How many patients required intubation? [1m]\n",
    "\n",
    "Produce a bar chart"
   ]
  },
  {
   "cell_type": "code",
   "execution_count": null,
   "metadata": {},
   "outputs": [],
   "source": [
    "# your codes here...\n",
    "\n",
    " "
   ]
  },
  {
   "cell_type": "markdown",
   "metadata": {},
   "source": [
    "### QUESTION 7. Any correlations between other diseases and ICU admission?[1m]\n",
    "\n",
    "The diseases are \"DIABETES\", \"COPD\", \"ASTHMA\", \"INMUSUPR\", \"HYPERTENSION\", \"CARDIOVASCULAR\", \"OBESITY\", \"CHRONIC_KIDNEY\",\"TOBACCO\""
   ]
  },
  {
   "cell_type": "code",
   "execution_count": null,
   "metadata": {},
   "outputs": [],
   "source": [
    "# your codes here...\n",
    "\n"
   ]
  },
  {
   "cell_type": "markdown",
   "metadata": {},
   "source": [
    "### QUESTION 8. What are the common diseases that the deceased patients had?[1m]\n",
    "\n",
    "#### Produce a bar chart"
   ]
  },
  {
   "cell_type": "code",
   "execution_count": null,
   "metadata": {},
   "outputs": [],
   "source": [
    "# your codes here...\n"
   ]
  },
  {
   "cell_type": "markdown",
   "metadata": {},
   "source": [
    "### Question 9: Streamlit Development\n",
    "\n",
    "In this question, you are required to develop an interactive UI using streamlit and hosting it to Streamlit cloud. Your streamlit app should demonstrate 3 different interactive charts. That is, changing or selecting different parameters, the charts will change accordingly. \n"
   ]
  }
 ],
 "metadata": {
  "kernelspec": {
   "display_name": "Python 3",
   "language": "python",
   "name": "python3"
  },
  "language_info": {
   "codemirror_mode": {
    "name": "ipython",
    "version": 3
   },
   "file_extension": ".py",
   "mimetype": "text/x-python",
   "name": "python",
   "nbconvert_exporter": "python",
   "pygments_lexer": "ipython3",
   "version": "3.9.6"
  }
 },
 "nbformat": 4,
 "nbformat_minor": 4
}
